{
 "cells": [
  {
   "cell_type": "markdown",
   "metadata": {
    "id": "B02fhfaQgvxc"
   },
   "source": [
    "This  notebook is used to train a stylegan model\n",
    "It expects a properly formatted dataset directory\n",
    "This should allow you to train a conditional or regular model."
   ]
  },
  {
   "cell_type": "markdown",
   "metadata": {
    "id": "R7JvPMLWy95f"
   },
   "source": [
    "## Import and setup"
   ]
  },
  {
   "cell_type": "code",
   "execution_count": null,
   "metadata": {
    "id": "7qFWMJnbIDoM"
   },
   "outputs": [],
   "source": [
    "%load_ext autoreload\n",
    "\n",
    "%autoreload 2"
   ]
  },
  {
   "cell_type": "code",
   "execution_count": null,
   "metadata": {
    "id": "-XW-AH_5D3uZ"
   },
   "outputs": [],
   "source": [
    "!pip install click requests tqdm pyspng ninja imageio-ffmpeg==0.4.3 torch==1.8.0"
   ]
  },
  {
   "cell_type": "code",
   "execution_count": null,
   "metadata": {
    "id": "6jY44x99pusN"
   },
   "outputs": [],
   "source": [
    "import torch\n",
    "import torchvision\n",
    "from pathlib import Path\n",
    "from PIL import Image\n",
    "from tqdm.auto import tqdm\n",
    "import PIL\n",
    "import os\n",
    "import numpy as np\n",
    "from google.colab import drive\n",
    "\n",
    "drive.mount(\"/content/drive\")\n",
    "torch.cuda.device_count()"
   ]
  },
  {
   "cell_type": "code",
   "execution_count": null,
   "metadata": {
    "id": "CNHyLiBsIboY"
   },
   "outputs": [],
   "source": [
    "%cd /content/\n",
    "!git clone https://github.com/snakch/stylegan2-ada-pytorch.git"
   ]
  },
  {
   "cell_type": "markdown",
   "metadata": {
    "id": "i7fgVUD8qoVJ"
   },
   "source": [
    "# Setting Paths"
   ]
  },
  {
   "cell_type": "code",
   "execution_count": null,
   "metadata": {
    "id": "4wcSsvkVDxfs"
   },
   "outputs": [],
   "source": [
    "# Set path to train directory dataset here\n",
    "# If training a conditional model, the labels should\n",
    "train_dir = Path(\"/content/drive/MyDrive/portrait_data/train_512_v5\")\n",
    "\n",
    "# Set the path to outputs\n",
    "outputs_path = Path(\"/content/drive/MyDrive/outputs\")\n",
    "outputs_path.mkdir(exist_ok=True)\n",
    "outputs_path = str(outputs_path)"
   ]
  },
  {
   "cell_type": "markdown",
   "metadata": {
    "id": "RJ-xirKuHKEP"
   },
   "source": [
    "# Train using transfer learning\n"
   ]
  },
  {
   "cell_type": "code",
   "execution_count": null,
   "metadata": {
    "id": "swHnE-DQXDkV"
   },
   "outputs": [],
   "source": [
    "!wget https://nvlabs-fi-cdn.nvidia.com/stylegan2-ada-pytorch/pretrained/transfer-learning-source-nets/ffhq-res512-mirror-stylegan2-noaug.pkl\n",
    "cond = False\n",
    "resume = \"/content/ffhq-res512-mirror-stylegan2-noaug.pkl\""
   ]
  },
  {
   "cell_type": "code",
   "execution_count": null,
   "metadata": {
    "id": "kMht3ejtgPb-"
   },
   "outputs": [],
   "source": [
    "%cd stylegan2-ada-pytorch"
   ]
  },
  {
   "cell_type": "code",
   "execution_count": null,
   "metadata": {
    "id": "rhwDsvfpXah8"
   },
   "outputs": [],
   "source": [
    "# # Uncomment this if training a conditional model\n",
    "# # First use notebook convert_pretrained_stylegan_to_conditional\n",
    "# # to create a conditional model. Change the resume path to point to the model pkl\n",
    "\n",
    "# cond = True\n",
    "# resume = '/path/to/pkl'"
   ]
  },
  {
   "cell_type": "code",
   "execution_count": null,
   "metadata": {
    "id": "nIqAPSgaHKEZ"
   },
   "outputs": [],
   "source": [
    "!python train.py --resume=$resume --outdir=$outputs_path --data=$train_dir --gpus=1 --cfg=paper512 --mirror=1 --snap=10 --cond $cond"
   ]
  },
  {
   "cell_type": "markdown",
   "metadata": {
    "id": "YZPQOK_p8eWD"
   },
   "source": [
    "# Tensorboard"
   ]
  },
  {
   "cell_type": "code",
   "execution_count": null,
   "metadata": {
    "id": "g7Iuzhpvpf3y"
   },
   "outputs": [],
   "source": [
    "%load_ext tensorboard\n",
    "%tensorboard --logdir $outputs_path"
   ]
  },
  {
   "cell_type": "code",
   "execution_count": null,
   "metadata": {
    "id": "cPOrcK0ONKDG"
   },
   "outputs": [],
   "source": []
  }
 ],
 "metadata": {
  "accelerator": "GPU",
  "colab": {
   "collapsed_sections": [
    "pfgYWjOudgTV"
   ],
   "name": "train_stylegan.ipynb",
   "provenance": []
  },
  "kernelspec": {
   "display_name": "Python 3",
   "name": "python3"
  }
 },
 "nbformat": 4,
 "nbformat_minor": 0
}
